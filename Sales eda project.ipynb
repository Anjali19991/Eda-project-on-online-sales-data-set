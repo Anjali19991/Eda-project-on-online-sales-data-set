{
 "cells": [
  {
   "cell_type": "code",
   "execution_count": 1,
   "id": "c1deada7",
   "metadata": {},
   "outputs": [],
   "source": [
    "import numpy as np\n",
    "import matplotlib.pyplot as plt\n",
    "import pandas as pd\n"
   ]
  },
  {
   "cell_type": "markdown",
   "id": "cb422e6b",
   "metadata": {},
   "source": [
    "# Loading the data set"
   ]
  },
  {
   "cell_type": "code",
   "execution_count": 2,
   "id": "8a3b2343",
   "metadata": {},
   "outputs": [],
   "source": [
    "df = pd.read_excel('Online Retail.xlsx')"
   ]
  },
  {
   "cell_type": "code",
   "execution_count": 3,
   "id": "fcc4c253",
   "metadata": {},
   "outputs": [
    {
     "data": {
      "text/html": [
       "<div>\n",
       "<style scoped>\n",
       "    .dataframe tbody tr th:only-of-type {\n",
       "        vertical-align: middle;\n",
       "    }\n",
       "\n",
       "    .dataframe tbody tr th {\n",
       "        vertical-align: top;\n",
       "    }\n",
       "\n",
       "    .dataframe thead th {\n",
       "        text-align: right;\n",
       "    }\n",
       "</style>\n",
       "<table border=\"1\" class=\"dataframe\">\n",
       "  <thead>\n",
       "    <tr style=\"text-align: right;\">\n",
       "      <th></th>\n",
       "      <th>InvoiceNo</th>\n",
       "      <th>StockCode</th>\n",
       "      <th>Description</th>\n",
       "      <th>Quantity</th>\n",
       "      <th>InvoiceDate</th>\n",
       "      <th>UnitPrice</th>\n",
       "      <th>CustomerID</th>\n",
       "      <th>Country</th>\n",
       "    </tr>\n",
       "  </thead>\n",
       "  <tbody>\n",
       "    <tr>\n",
       "      <th>0</th>\n",
       "      <td>536365</td>\n",
       "      <td>85123A</td>\n",
       "      <td>WHITE HANGING HEART T-LIGHT HOLDER</td>\n",
       "      <td>6</td>\n",
       "      <td>2010-12-01 08:26:00</td>\n",
       "      <td>2.55</td>\n",
       "      <td>17850.0</td>\n",
       "      <td>United Kingdom</td>\n",
       "    </tr>\n",
       "    <tr>\n",
       "      <th>1</th>\n",
       "      <td>536365</td>\n",
       "      <td>71053</td>\n",
       "      <td>WHITE METAL LANTERN</td>\n",
       "      <td>6</td>\n",
       "      <td>2010-12-01 08:26:00</td>\n",
       "      <td>3.39</td>\n",
       "      <td>17850.0</td>\n",
       "      <td>United Kingdom</td>\n",
       "    </tr>\n",
       "    <tr>\n",
       "      <th>2</th>\n",
       "      <td>536365</td>\n",
       "      <td>84406B</td>\n",
       "      <td>CREAM CUPID HEARTS COAT HANGER</td>\n",
       "      <td>8</td>\n",
       "      <td>2010-12-01 08:26:00</td>\n",
       "      <td>2.75</td>\n",
       "      <td>17850.0</td>\n",
       "      <td>United Kingdom</td>\n",
       "    </tr>\n",
       "    <tr>\n",
       "      <th>3</th>\n",
       "      <td>536365</td>\n",
       "      <td>84029G</td>\n",
       "      <td>KNITTED UNION FLAG HOT WATER BOTTLE</td>\n",
       "      <td>6</td>\n",
       "      <td>2010-12-01 08:26:00</td>\n",
       "      <td>3.39</td>\n",
       "      <td>17850.0</td>\n",
       "      <td>United Kingdom</td>\n",
       "    </tr>\n",
       "    <tr>\n",
       "      <th>4</th>\n",
       "      <td>536365</td>\n",
       "      <td>84029E</td>\n",
       "      <td>RED WOOLLY HOTTIE WHITE HEART.</td>\n",
       "      <td>6</td>\n",
       "      <td>2010-12-01 08:26:00</td>\n",
       "      <td>3.39</td>\n",
       "      <td>17850.0</td>\n",
       "      <td>United Kingdom</td>\n",
       "    </tr>\n",
       "    <tr>\n",
       "      <th>5</th>\n",
       "      <td>536365</td>\n",
       "      <td>22752</td>\n",
       "      <td>SET 7 BABUSHKA NESTING BOXES</td>\n",
       "      <td>2</td>\n",
       "      <td>2010-12-01 08:26:00</td>\n",
       "      <td>7.65</td>\n",
       "      <td>17850.0</td>\n",
       "      <td>United Kingdom</td>\n",
       "    </tr>\n",
       "    <tr>\n",
       "      <th>6</th>\n",
       "      <td>536365</td>\n",
       "      <td>21730</td>\n",
       "      <td>GLASS STAR FROSTED T-LIGHT HOLDER</td>\n",
       "      <td>6</td>\n",
       "      <td>2010-12-01 08:26:00</td>\n",
       "      <td>4.25</td>\n",
       "      <td>17850.0</td>\n",
       "      <td>United Kingdom</td>\n",
       "    </tr>\n",
       "    <tr>\n",
       "      <th>7</th>\n",
       "      <td>536366</td>\n",
       "      <td>22633</td>\n",
       "      <td>HAND WARMER UNION JACK</td>\n",
       "      <td>6</td>\n",
       "      <td>2010-12-01 08:28:00</td>\n",
       "      <td>1.85</td>\n",
       "      <td>17850.0</td>\n",
       "      <td>United Kingdom</td>\n",
       "    </tr>\n",
       "    <tr>\n",
       "      <th>8</th>\n",
       "      <td>536366</td>\n",
       "      <td>22632</td>\n",
       "      <td>HAND WARMER RED POLKA DOT</td>\n",
       "      <td>6</td>\n",
       "      <td>2010-12-01 08:28:00</td>\n",
       "      <td>1.85</td>\n",
       "      <td>17850.0</td>\n",
       "      <td>United Kingdom</td>\n",
       "    </tr>\n",
       "    <tr>\n",
       "      <th>9</th>\n",
       "      <td>536367</td>\n",
       "      <td>84879</td>\n",
       "      <td>ASSORTED COLOUR BIRD ORNAMENT</td>\n",
       "      <td>32</td>\n",
       "      <td>2010-12-01 08:34:00</td>\n",
       "      <td>1.69</td>\n",
       "      <td>13047.0</td>\n",
       "      <td>United Kingdom</td>\n",
       "    </tr>\n",
       "  </tbody>\n",
       "</table>\n",
       "</div>"
      ],
      "text/plain": [
       "  InvoiceNo StockCode                          Description  Quantity  \\\n",
       "0    536365    85123A   WHITE HANGING HEART T-LIGHT HOLDER         6   \n",
       "1    536365     71053                  WHITE METAL LANTERN         6   \n",
       "2    536365    84406B       CREAM CUPID HEARTS COAT HANGER         8   \n",
       "3    536365    84029G  KNITTED UNION FLAG HOT WATER BOTTLE         6   \n",
       "4    536365    84029E       RED WOOLLY HOTTIE WHITE HEART.         6   \n",
       "5    536365     22752         SET 7 BABUSHKA NESTING BOXES         2   \n",
       "6    536365     21730    GLASS STAR FROSTED T-LIGHT HOLDER         6   \n",
       "7    536366     22633               HAND WARMER UNION JACK         6   \n",
       "8    536366     22632            HAND WARMER RED POLKA DOT         6   \n",
       "9    536367     84879        ASSORTED COLOUR BIRD ORNAMENT        32   \n",
       "\n",
       "          InvoiceDate  UnitPrice  CustomerID         Country  \n",
       "0 2010-12-01 08:26:00       2.55     17850.0  United Kingdom  \n",
       "1 2010-12-01 08:26:00       3.39     17850.0  United Kingdom  \n",
       "2 2010-12-01 08:26:00       2.75     17850.0  United Kingdom  \n",
       "3 2010-12-01 08:26:00       3.39     17850.0  United Kingdom  \n",
       "4 2010-12-01 08:26:00       3.39     17850.0  United Kingdom  \n",
       "5 2010-12-01 08:26:00       7.65     17850.0  United Kingdom  \n",
       "6 2010-12-01 08:26:00       4.25     17850.0  United Kingdom  \n",
       "7 2010-12-01 08:28:00       1.85     17850.0  United Kingdom  \n",
       "8 2010-12-01 08:28:00       1.85     17850.0  United Kingdom  \n",
       "9 2010-12-01 08:34:00       1.69     13047.0  United Kingdom  "
      ]
     },
     "execution_count": 3,
     "metadata": {},
     "output_type": "execute_result"
    }
   ],
   "source": [
    "df.head(10)"
   ]
  },
  {
   "cell_type": "markdown",
   "id": "0bebf966",
   "metadata": {},
   "source": [
    "# Describing the data set"
   ]
  },
  {
   "cell_type": "markdown",
   "id": "517f98df",
   "metadata": {},
   "source": [
    "### Number of data in each column"
   ]
  },
  {
   "cell_type": "code",
   "execution_count": 4,
   "id": "059eb2f8",
   "metadata": {},
   "outputs": [
    {
     "data": {
      "text/plain": [
       "InvoiceNo              object\n",
       "StockCode              object\n",
       "Description            object\n",
       "Quantity                int64\n",
       "InvoiceDate    datetime64[ns]\n",
       "UnitPrice             float64\n",
       "CustomerID            float64\n",
       "Country                object\n",
       "dtype: object"
      ]
     },
     "execution_count": 4,
     "metadata": {},
     "output_type": "execute_result"
    }
   ],
   "source": [
    "df.dtypes"
   ]
  },
  {
   "cell_type": "markdown",
   "id": "7aa5a6fe",
   "metadata": {},
   "source": [
    " Hence there are **string** , **integer** and **float** data types in the data set"
   ]
  },
  {
   "cell_type": "code",
   "execution_count": 5,
   "id": "266cda51",
   "metadata": {},
   "outputs": [
    {
     "data": {
      "text/plain": [
       "InvoiceNo      541909\n",
       "StockCode      541909\n",
       "Description    540455\n",
       "Quantity       541909\n",
       "InvoiceDate    541909\n",
       "UnitPrice      541909\n",
       "CustomerID     406829\n",
       "Country        541909\n",
       "dtype: int64"
      ]
     },
     "execution_count": 5,
     "metadata": {},
     "output_type": "execute_result"
    }
   ],
   "source": [
    "df.count() "
   ]
  },
  {
   "cell_type": "markdown",
   "id": "b6c2f688",
   "metadata": {},
   "source": [
    "Looking at the number of data in each column we can intuitively we can say that there are missing data in Columns **Description** and **CustomerID**"
   ]
  },
  {
   "cell_type": "markdown",
   "id": "28765392",
   "metadata": {},
   "source": [
    "### Looking for null data more evidently"
   ]
  },
  {
   "cell_type": "code",
   "execution_count": 6,
   "id": "b8570f58",
   "metadata": {},
   "outputs": [
    {
     "data": {
      "text/plain": [
       "InvoiceNo      False\n",
       "StockCode      False\n",
       "Description     True\n",
       "Quantity       False\n",
       "InvoiceDate    False\n",
       "UnitPrice      False\n",
       "CustomerID      True\n",
       "Country        False\n",
       "dtype: bool"
      ]
     },
     "execution_count": 6,
     "metadata": {},
     "output_type": "execute_result"
    }
   ],
   "source": [
    "df.isnull().any(axis = 0)"
   ]
  },
  {
   "cell_type": "markdown",
   "id": "09a0bdba",
   "metadata": {},
   "source": [
    "Hence our intution was correct there is missing data in columns **Description** and **CustomerID**"
   ]
  },
  {
   "cell_type": "markdown",
   "id": "bf78a2e5",
   "metadata": {},
   "source": [
    "# Data Preprocessing"
   ]
  },
  {
   "cell_type": "markdown",
   "id": "d1e67b84",
   "metadata": {},
   "source": [
    "Data Preprocessing is required for removing **null data** , **dummy data** and also for **dropping irrelevent columns**"
   ]
  },
  {
   "cell_type": "markdown",
   "id": "8901eab9",
   "metadata": {},
   "source": [
    "### Dropping irrelevent columns"
   ]
  },
  {
   "cell_type": "code",
   "execution_count": 7,
   "id": "d0e919f0",
   "metadata": {},
   "outputs": [],
   "source": [
    "df2 = df.drop(['Description','CustomerID'],axis = 1)"
   ]
  },
  {
   "cell_type": "markdown",
   "id": "f7c148f7",
   "metadata": {},
   "source": [
    "### Looking for dummy records "
   ]
  },
  {
   "cell_type": "code",
   "execution_count": 8,
   "id": "fe017678",
   "metadata": {},
   "outputs": [],
   "source": [
    "df_duplicate_rows = df2[df2.duplicated()]"
   ]
  },
  {
   "cell_type": "code",
   "execution_count": 9,
   "id": "89d00cf5",
   "metadata": {},
   "outputs": [
    {
     "data": {
      "text/plain": [
       "(5270, 6)"
      ]
     },
     "execution_count": 9,
     "metadata": {},
     "output_type": "execute_result"
    }
   ],
   "source": [
    "df_duplicate_rows.shape"
   ]
  },
  {
   "cell_type": "markdown",
   "id": "925acdd3",
   "metadata": {},
   "source": [
    "So there are in total **5270** duplicate records"
   ]
  },
  {
   "cell_type": "markdown",
   "id": "32f0f194",
   "metadata": {},
   "source": [
    "#### Now let us drop the duplicate records"
   ]
  },
  {
   "cell_type": "code",
   "execution_count": 10,
   "id": "3b312553",
   "metadata": {},
   "outputs": [
    {
     "data": {
      "text/html": [
       "<div>\n",
       "<style scoped>\n",
       "    .dataframe tbody tr th:only-of-type {\n",
       "        vertical-align: middle;\n",
       "    }\n",
       "\n",
       "    .dataframe tbody tr th {\n",
       "        vertical-align: top;\n",
       "    }\n",
       "\n",
       "    .dataframe thead th {\n",
       "        text-align: right;\n",
       "    }\n",
       "</style>\n",
       "<table border=\"1\" class=\"dataframe\">\n",
       "  <thead>\n",
       "    <tr style=\"text-align: right;\">\n",
       "      <th></th>\n",
       "      <th>InvoiceNo</th>\n",
       "      <th>StockCode</th>\n",
       "      <th>Quantity</th>\n",
       "      <th>InvoiceDate</th>\n",
       "      <th>UnitPrice</th>\n",
       "      <th>Country</th>\n",
       "    </tr>\n",
       "  </thead>\n",
       "  <tbody>\n",
       "    <tr>\n",
       "      <th>0</th>\n",
       "      <td>536365</td>\n",
       "      <td>85123A</td>\n",
       "      <td>6</td>\n",
       "      <td>2010-12-01 08:26:00</td>\n",
       "      <td>2.55</td>\n",
       "      <td>United Kingdom</td>\n",
       "    </tr>\n",
       "    <tr>\n",
       "      <th>1</th>\n",
       "      <td>536365</td>\n",
       "      <td>71053</td>\n",
       "      <td>6</td>\n",
       "      <td>2010-12-01 08:26:00</td>\n",
       "      <td>3.39</td>\n",
       "      <td>United Kingdom</td>\n",
       "    </tr>\n",
       "    <tr>\n",
       "      <th>2</th>\n",
       "      <td>536365</td>\n",
       "      <td>84406B</td>\n",
       "      <td>8</td>\n",
       "      <td>2010-12-01 08:26:00</td>\n",
       "      <td>2.75</td>\n",
       "      <td>United Kingdom</td>\n",
       "    </tr>\n",
       "    <tr>\n",
       "      <th>3</th>\n",
       "      <td>536365</td>\n",
       "      <td>84029G</td>\n",
       "      <td>6</td>\n",
       "      <td>2010-12-01 08:26:00</td>\n",
       "      <td>3.39</td>\n",
       "      <td>United Kingdom</td>\n",
       "    </tr>\n",
       "    <tr>\n",
       "      <th>4</th>\n",
       "      <td>536365</td>\n",
       "      <td>84029E</td>\n",
       "      <td>6</td>\n",
       "      <td>2010-12-01 08:26:00</td>\n",
       "      <td>3.39</td>\n",
       "      <td>United Kingdom</td>\n",
       "    </tr>\n",
       "  </tbody>\n",
       "</table>\n",
       "</div>"
      ],
      "text/plain": [
       "  InvoiceNo StockCode  Quantity         InvoiceDate  UnitPrice         Country\n",
       "0    536365    85123A         6 2010-12-01 08:26:00       2.55  United Kingdom\n",
       "1    536365     71053         6 2010-12-01 08:26:00       3.39  United Kingdom\n",
       "2    536365    84406B         8 2010-12-01 08:26:00       2.75  United Kingdom\n",
       "3    536365    84029G         6 2010-12-01 08:26:00       3.39  United Kingdom\n",
       "4    536365    84029E         6 2010-12-01 08:26:00       3.39  United Kingdom"
      ]
     },
     "execution_count": 10,
     "metadata": {},
     "output_type": "execute_result"
    }
   ],
   "source": [
    "df2 = df2.drop_duplicates()\n",
    "df2.head(5)"
   ]
  },
  {
   "cell_type": "code",
   "execution_count": 11,
   "id": "615aaa2c",
   "metadata": {},
   "outputs": [
    {
     "data": {
      "text/plain": [
       "InvoiceNo      536639\n",
       "StockCode      536639\n",
       "Quantity       536639\n",
       "InvoiceDate    536639\n",
       "UnitPrice      536639\n",
       "Country        536639\n",
       "dtype: int64"
      ]
     },
     "execution_count": 11,
     "metadata": {},
     "output_type": "execute_result"
    }
   ],
   "source": [
    "df2.count()"
   ]
  },
  {
   "cell_type": "markdown",
   "id": "e64380b2",
   "metadata": {},
   "source": [
    "After dropping the dummy data and irrelevent columns we are sucessfully able to remove all null data as well , as we can see it clearly based on the count of each columns"
   ]
  },
  {
   "cell_type": "code",
   "execution_count": 12,
   "id": "ee3df310",
   "metadata": {},
   "outputs": [
    {
     "data": {
      "text/plain": [
       "InvoiceNo      False\n",
       "StockCode      False\n",
       "Quantity       False\n",
       "InvoiceDate    False\n",
       "UnitPrice      False\n",
       "Country        False\n",
       "dtype: bool"
      ]
     },
     "execution_count": 12,
     "metadata": {},
     "output_type": "execute_result"
    }
   ],
   "source": [
    "df2.isnull().any(axis = 0)"
   ]
  },
  {
   "cell_type": "markdown",
   "id": "a5031e80",
   "metadata": {},
   "source": [
    "The above out put is the evidence that we have sucessfully removed all null values"
   ]
  },
  {
   "cell_type": "markdown",
   "id": "18a7af00",
   "metadata": {},
   "source": [
    "# Analsis of the data set"
   ]
  },
  {
   "cell_type": "markdown",
   "id": "c20be7c5",
   "metadata": {},
   "source": [
    "### Portions of customers in different countries"
   ]
  },
  {
   "cell_type": "code",
   "execution_count": 13,
   "id": "c9895b8f",
   "metadata": {},
   "outputs": [
    {
     "data": {
      "text/plain": [
       "United Kingdom          490298\n",
       "Germany                   9480\n",
       "France                    8541\n",
       "EIRE                      8184\n",
       "Spain                     2528\n",
       "Netherlands               2371\n",
       "Belgium                   2069\n",
       "Switzerland               1994\n",
       "Portugal                  1510\n",
       "Australia                 1258\n",
       "Norway                    1086\n",
       "Italy                      803\n",
       "Channel Islands            757\n",
       "Finland                    695\n",
       "Cyprus                     611\n",
       "Sweden                     461\n",
       "Unspecified                442\n",
       "Austria                    401\n",
       "Denmark                    389\n",
       "Japan                      358\n",
       "Poland                     341\n",
       "Israel                     294\n",
       "USA                        291\n",
       "Hong Kong                  284\n",
       "Singapore                  229\n",
       "Iceland                    182\n",
       "Canada                     151\n",
       "Greece                     146\n",
       "Malta                      127\n",
       "United Arab Emirates        68\n",
       "European Community          61\n",
       "RSA                         58\n",
       "Lebanon                     45\n",
       "Lithuania                   35\n",
       "Brazil                      32\n",
       "Czech Republic              30\n",
       "Bahrain                     19\n",
       "Saudi Arabia                10\n",
       "Name: Country, dtype: int64"
      ]
     },
     "execution_count": 13,
     "metadata": {},
     "output_type": "execute_result"
    }
   ],
   "source": [
    "countries = set(np.array(df2['Country']))\n",
    "df2['Country'].value_counts()\n"
   ]
  },
  {
   "cell_type": "markdown",
   "id": "cb6aa2ff",
   "metadata": {},
   "source": [
    "**So we can say that maximum transactions are from United Kingdom so far.**"
   ]
  },
  {
   "cell_type": "markdown",
   "id": "dde51c03",
   "metadata": {},
   "source": [
    "### Yearly sales"
   ]
  },
  {
   "cell_type": "code",
   "execution_count": 14,
   "id": "ef29ca7e",
   "metadata": {},
   "outputs": [],
   "source": [
    "d = df['InvoiceDate'].dt.year \n",
    "years = list(set(d))\n",
    "sales = []\n",
    "label = []\n",
    "for i in years :\n",
    "    sales.append(d.value_counts()[i])\n",
    "    label.append('Years = ' +str(i)+' , Sales_count = '+str(d.value_counts()[i]))"
   ]
  },
  {
   "cell_type": "code",
   "execution_count": 15,
   "id": "f416461d",
   "metadata": {},
   "outputs": [
    {
     "data": {
      "image/png": "[encoded data removed]",
      "text/plain": [
       "<Figure size 432x288 with 1 Axes>"
      ]
     },
     "metadata": {},
     "output_type": "display_data"
    }
   ],
   "source": [
    "plt.pie(sales, labels = label)\n",
    "plt.show() "
   ]
  },
  {
   "cell_type": "code",
   "execution_count": 16,
   "id": "a271d404",
   "metadata": {},
   "outputs": [
    {
     "name": "stdout",
     "output_type": "stream",
     "text": [
      "92.16086095635984 7.839139043640165\n"
     ]
    }
   ],
   "source": [
    "y_2011 = (499428/(499428+42481))\n",
    "y_2010 = (1-y_2011)*100\n",
    "y_2011 = y_2011*100\n",
    "print(y_2011 , y_2010)\n"
   ]
  },
  {
   "cell_type": "markdown",
   "id": "59cb223d",
   "metadata": {},
   "source": [
    "**So we can conclude that around 92% of the sales happend in the year of 2011 and remaining 8% in the year of 2010**"
   ]
  },
  {
   "cell_type": "markdown",
   "id": "598df641",
   "metadata": {},
   "source": [
    "### Monthly sales in the year of 2011"
   ]
  },
  {
   "cell_type": "code",
   "execution_count": 19,
   "id": "56e18fce",
   "metadata": {},
   "outputs": [
    {
     "data": {
      "image/png": "[encoded data removed]",
      "text/plain": [
       "<Figure size 432x288 with 1 Axes>"
      ]
     },
     "metadata": {
      "needs_background": "light"
     },
     "output_type": "display_data"
    }
   ],
   "source": [
    "d = df[df[\"InvoiceDate\"].dt.year == 2011]\n",
    "transactions = []\n",
    "d_months = d['InvoiceDate'].dt.month\n",
    "months = ['Jan','Feb','Mar','April','May','June','July','Aug','Sept','Oct','Nov','Dec']\n",
    "for i in range(1,13) :\n",
    "    transactions.append(d_months.value_counts()[i])\n",
    "plt.bar(months,transactions,color='blue',width=0.7)\n",
    "plt.xlabel(\"Months\")\n",
    "plt.ylabel(\"Number of transactions\")\n",
    "plt.title('Number of buyers per month')\n",
    "plt.show()\n",
    "\n",
    " \n",
    "   \n",
    "    "
   ]
  },
  {
   "cell_type": "code",
   "execution_count": 20,
   "id": "e33501f5",
   "metadata": {},
   "outputs": [],
   "source": [
    "df['Amount'] = np.array(df['Quantity'])*np.array(df['UnitPrice'])"
   ]
  },
  {
   "cell_type": "code",
   "execution_count": 21,
   "id": "304d7eab",
   "metadata": {},
   "outputs": [
    {
     "data": {
      "text/html": [
       "<div>\n",
       "<style scoped>\n",
       "    .dataframe tbody tr th:only-of-type {\n",
       "        vertical-align: middle;\n",
       "    }\n",
       "\n",
       "    .dataframe tbody tr th {\n",
       "        vertical-align: top;\n",
       "    }\n",
       "\n",
       "    .dataframe thead th {\n",
       "        text-align: right;\n",
       "    }\n",
       "</style>\n",
       "<table border=\"1\" class=\"dataframe\">\n",
       "  <thead>\n",
       "    <tr style=\"text-align: right;\">\n",
       "      <th></th>\n",
       "      <th>InvoiceNo</th>\n",
       "      <th>StockCode</th>\n",
       "      <th>Description</th>\n",
       "      <th>Quantity</th>\n",
       "      <th>InvoiceDate</th>\n",
       "      <th>UnitPrice</th>\n",
       "      <th>CustomerID</th>\n",
       "      <th>Country</th>\n",
       "      <th>Amount</th>\n",
       "    </tr>\n",
       "  </thead>\n",
       "  <tbody>\n",
       "    <tr>\n",
       "      <th>0</th>\n",
       "      <td>536365</td>\n",
       "      <td>85123A</td>\n",
       "      <td>WHITE HANGING HEART T-LIGHT HOLDER</td>\n",
       "      <td>6</td>\n",
       "      <td>2010-12-01 08:26:00</td>\n",
       "      <td>2.55</td>\n",
       "      <td>17850.0</td>\n",
       "      <td>United Kingdom</td>\n",
       "      <td>15.30</td>\n",
       "    </tr>\n",
       "    <tr>\n",
       "      <th>1</th>\n",
       "      <td>536365</td>\n",
       "      <td>71053</td>\n",
       "      <td>WHITE METAL LANTERN</td>\n",
       "      <td>6</td>\n",
       "      <td>2010-12-01 08:26:00</td>\n",
       "      <td>3.39</td>\n",
       "      <td>17850.0</td>\n",
       "      <td>United Kingdom</td>\n",
       "      <td>20.34</td>\n",
       "    </tr>\n",
       "    <tr>\n",
       "      <th>2</th>\n",
       "      <td>536365</td>\n",
       "      <td>84406B</td>\n",
       "      <td>CREAM CUPID HEARTS COAT HANGER</td>\n",
       "      <td>8</td>\n",
       "      <td>2010-12-01 08:26:00</td>\n",
       "      <td>2.75</td>\n",
       "      <td>17850.0</td>\n",
       "      <td>United Kingdom</td>\n",
       "      <td>22.00</td>\n",
       "    </tr>\n",
       "    <tr>\n",
       "      <th>3</th>\n",
       "      <td>536365</td>\n",
       "      <td>84029G</td>\n",
       "      <td>KNITTED UNION FLAG HOT WATER BOTTLE</td>\n",
       "      <td>6</td>\n",
       "      <td>2010-12-01 08:26:00</td>\n",
       "      <td>3.39</td>\n",
       "      <td>17850.0</td>\n",
       "      <td>United Kingdom</td>\n",
       "      <td>20.34</td>\n",
       "    </tr>\n",
       "    <tr>\n",
       "      <th>4</th>\n",
       "      <td>536365</td>\n",
       "      <td>84029E</td>\n",
       "      <td>RED WOOLLY HOTTIE WHITE HEART.</td>\n",
       "      <td>6</td>\n",
       "      <td>2010-12-01 08:26:00</td>\n",
       "      <td>3.39</td>\n",
       "      <td>17850.0</td>\n",
       "      <td>United Kingdom</td>\n",
       "      <td>20.34</td>\n",
       "    </tr>\n",
       "  </tbody>\n",
       "</table>\n",
       "</div>"
      ],
      "text/plain": [
       "  InvoiceNo StockCode                          Description  Quantity  \\\n",
       "0    536365    85123A   WHITE HANGING HEART T-LIGHT HOLDER         6   \n",
       "1    536365     71053                  WHITE METAL LANTERN         6   \n",
       "2    536365    84406B       CREAM CUPID HEARTS COAT HANGER         8   \n",
       "3    536365    84029G  KNITTED UNION FLAG HOT WATER BOTTLE         6   \n",
       "4    536365    84029E       RED WOOLLY HOTTIE WHITE HEART.         6   \n",
       "\n",
       "          InvoiceDate  UnitPrice  CustomerID         Country  Amount  \n",
       "0 2010-12-01 08:26:00       2.55     17850.0  United Kingdom   15.30  \n",
       "1 2010-12-01 08:26:00       3.39     17850.0  United Kingdom   20.34  \n",
       "2 2010-12-01 08:26:00       2.75     17850.0  United Kingdom   22.00  \n",
       "3 2010-12-01 08:26:00       3.39     17850.0  United Kingdom   20.34  \n",
       "4 2010-12-01 08:26:00       3.39     17850.0  United Kingdom   20.34  "
      ]
     },
     "execution_count": 21,
     "metadata": {},
     "output_type": "execute_result"
    }
   ],
   "source": [
    "df.head()"
   ]
  },
  {
   "cell_type": "code",
   "execution_count": 69,
   "id": "b483a464",
   "metadata": {},
   "outputs": [
    {
     "data": {
      "image/png": "[encoded data removed]",
      "text/plain": [
       "<Figure size 432x288 with 1 Axes>"
      ]
     },
     "metadata": {
      "needs_background": "light"
     },
     "output_type": "display_data"
    }
   ],
   "source": [
    "d = df[df[\"InvoiceDate\"].dt.year == 2011]\n",
    "d = d.drop(['InvoiceNo','StockCode','Description','Quantity','UnitPrice','CustomerID','Country'],axis = 1)\n",
    "d['Months'] = np.array(d['InvoiceDate'].dt.month)\n",
    "d = d.drop(['InvoiceDate'],axis = 1)\n",
    "sales = d.groupby(['Months']).sum()\n",
    "s = np.array(sales['Amount'])\n",
    "months = ['Jan','Feb','Mar','April','May','June','July','Aug','Sept','Oct','Nov','Dec']\n",
    "plt.bar(months,s,color='green',width=0.7)\n",
    "plt.xlabel(\"Months\")\n",
    "plt.ylabel(\"Total Profit\")\n",
    "plt.show()\n",
    "    "
   ]
  },
  {
   "cell_type": "markdown",
   "id": "ba958c10",
   "metadata": {},
   "source": [
    "**So we can see that maximum profit is earned in the month of November**"
   ]
  },
  {
   "cell_type": "markdown",
   "id": "14ea2839",
   "metadata": {},
   "source": [
    "# Most selling products"
   ]
  },
  {
   "cell_type": "markdown",
   "id": "0fe10b44",
   "metadata": {},
   "source": [
    "### Top selling product in the years of 2010 and 2011"
   ]
  },
  {
   "cell_type": "code",
   "execution_count": 87,
   "id": "7808b940",
   "metadata": {},
   "outputs": [
    {
     "data": {
      "text/html": [
       "<div>\n",
       "<style scoped>\n",
       "    .dataframe tbody tr th:only-of-type {\n",
       "        vertical-align: middle;\n",
       "    }\n",
       "\n",
       "    .dataframe tbody tr th {\n",
       "        vertical-align: top;\n",
       "    }\n",
       "\n",
       "    .dataframe thead th {\n",
       "        text-align: right;\n",
       "    }\n",
       "</style>\n",
       "<table border=\"1\" class=\"dataframe\">\n",
       "  <thead>\n",
       "    <tr style=\"text-align: right;\">\n",
       "      <th></th>\n",
       "      <th>Quantity</th>\n",
       "      <th>UnitPrice</th>\n",
       "      <th>CustomerID</th>\n",
       "      <th>Amount</th>\n",
       "    </tr>\n",
       "    <tr>\n",
       "      <th>StockCode</th>\n",
       "      <th></th>\n",
       "      <th></th>\n",
       "      <th></th>\n",
       "      <th></th>\n",
       "    </tr>\n",
       "  </thead>\n",
       "  <tbody>\n",
       "    <tr>\n",
       "      <th>10002</th>\n",
       "      <td>1037</td>\n",
       "      <td>77.15</td>\n",
       "      <td>723842.0</td>\n",
       "      <td>759.89</td>\n",
       "    </tr>\n",
       "    <tr>\n",
       "      <th>10080</th>\n",
       "      <td>495</td>\n",
       "      <td>9.04</td>\n",
       "      <td>333014.0</td>\n",
       "      <td>119.09</td>\n",
       "    </tr>\n",
       "    <tr>\n",
       "      <th>10120</th>\n",
       "      <td>193</td>\n",
       "      <td>6.30</td>\n",
       "      <td>484879.0</td>\n",
       "      <td>40.53</td>\n",
       "    </tr>\n",
       "    <tr>\n",
       "      <th>10125</th>\n",
       "      <td>1296</td>\n",
       "      <td>80.81</td>\n",
       "      <td>976545.0</td>\n",
       "      <td>994.84</td>\n",
       "    </tr>\n",
       "    <tr>\n",
       "      <th>10133</th>\n",
       "      <td>2775</td>\n",
       "      <td>129.16</td>\n",
       "      <td>1942666.0</td>\n",
       "      <td>1540.02</td>\n",
       "    </tr>\n",
       "    <tr>\n",
       "      <th>10134</th>\n",
       "      <td>-19</td>\n",
       "      <td>0.00</td>\n",
       "      <td>0.0</td>\n",
       "      <td>0.00</td>\n",
       "    </tr>\n",
       "    <tr>\n",
       "      <th>10135</th>\n",
       "      <td>2230</td>\n",
       "      <td>253.83</td>\n",
       "      <td>1854058.0</td>\n",
       "      <td>2206.14</td>\n",
       "    </tr>\n",
       "    <tr>\n",
       "      <th>11001</th>\n",
       "      <td>1430</td>\n",
       "      <td>225.38</td>\n",
       "      <td>1044130.0</td>\n",
       "      <td>2152.39</td>\n",
       "    </tr>\n",
       "    <tr>\n",
       "      <th>15030</th>\n",
       "      <td>293</td>\n",
       "      <td>3.77</td>\n",
       "      <td>208128.0</td>\n",
       "      <td>41.47</td>\n",
       "    </tr>\n",
       "    <tr>\n",
       "      <th>15034</th>\n",
       "      <td>5206</td>\n",
       "      <td>52.03</td>\n",
       "      <td>1415770.0</td>\n",
       "      <td>731.73</td>\n",
       "    </tr>\n",
       "  </tbody>\n",
       "</table>\n",
       "</div>"
      ],
      "text/plain": [
       "           Quantity  UnitPrice  CustomerID   Amount\n",
       "StockCode                                          \n",
       "10002          1037      77.15    723842.0   759.89\n",
       "10080           495       9.04    333014.0   119.09\n",
       "10120           193       6.30    484879.0    40.53\n",
       "10125          1296      80.81    976545.0   994.84\n",
       "10133          2775     129.16   1942666.0  1540.02\n",
       "10134           -19       0.00         0.0     0.00\n",
       "10135          2230     253.83   1854058.0  2206.14\n",
       "11001          1430     225.38   1044130.0  2152.39\n",
       "15030           293       3.77    208128.0    41.47\n",
       "15034          5206      52.03   1415770.0   731.73"
      ]
     },
     "execution_count": 87,
     "metadata": {},
     "output_type": "execute_result"
    }
   ],
   "source": [
    "a = df.groupby(['StockCode']).sum()\n",
    "a.head(10)"
   ]
  },
  {
   "cell_type": "code",
   "execution_count": 88,
   "id": "082b98b7",
   "metadata": {},
   "outputs": [
    {
     "data": {
      "text/html": [
       "<div>\n",
       "<style scoped>\n",
       "    .dataframe tbody tr th:only-of-type {\n",
       "        vertical-align: middle;\n",
       "    }\n",
       "\n",
       "    .dataframe tbody tr th {\n",
       "        vertical-align: top;\n",
       "    }\n",
       "\n",
       "    .dataframe thead th {\n",
       "        text-align: right;\n",
       "    }\n",
       "</style>\n",
       "<table border=\"1\" class=\"dataframe\">\n",
       "  <thead>\n",
       "    <tr style=\"text-align: right;\">\n",
       "      <th></th>\n",
       "      <th>Quantity</th>\n",
       "      <th>UnitPrice</th>\n",
       "      <th>CustomerID</th>\n",
       "      <th>Amount</th>\n",
       "    </tr>\n",
       "    <tr>\n",
       "      <th>StockCode</th>\n",
       "      <th></th>\n",
       "      <th></th>\n",
       "      <th></th>\n",
       "      <th></th>\n",
       "    </tr>\n",
       "  </thead>\n",
       "  <tbody>\n",
       "    <tr>\n",
       "      <th>22197</th>\n",
       "      <td>56450</td>\n",
       "      <td>1527.11</td>\n",
       "      <td>17275441.0</td>\n",
       "      <td>50987.47</td>\n",
       "    </tr>\n",
       "    <tr>\n",
       "      <th>84077</th>\n",
       "      <td>53847</td>\n",
       "      <td>173.39</td>\n",
       "      <td>7297844.0</td>\n",
       "      <td>13587.93</td>\n",
       "    </tr>\n",
       "    <tr>\n",
       "      <th>85099B</th>\n",
       "      <td>47363</td>\n",
       "      <td>5333.30</td>\n",
       "      <td>25396253.0</td>\n",
       "      <td>92356.03</td>\n",
       "    </tr>\n",
       "    <tr>\n",
       "      <th>85123A</th>\n",
       "      <td>38830</td>\n",
       "      <td>7177.79</td>\n",
       "      <td>32318742.0</td>\n",
       "      <td>97894.50</td>\n",
       "    </tr>\n",
       "    <tr>\n",
       "      <th>84879</th>\n",
       "      <td>36221</td>\n",
       "      <td>2584.77</td>\n",
       "      <td>21602517.0</td>\n",
       "      <td>58959.73</td>\n",
       "    </tr>\n",
       "    <tr>\n",
       "      <th>21212</th>\n",
       "      <td>36039</td>\n",
       "      <td>1047.04</td>\n",
       "      <td>16309247.0</td>\n",
       "      <td>21059.72</td>\n",
       "    </tr>\n",
       "    <tr>\n",
       "      <th>23084</th>\n",
       "      <td>30646</td>\n",
       "      <td>2496.53</td>\n",
       "      <td>12795186.0</td>\n",
       "      <td>66756.59</td>\n",
       "    </tr>\n",
       "    <tr>\n",
       "      <th>22492</th>\n",
       "      <td>26437</td>\n",
       "      <td>304.81</td>\n",
       "      <td>4919126.0</td>\n",
       "      <td>16810.42</td>\n",
       "    </tr>\n",
       "    <tr>\n",
       "      <th>22616</th>\n",
       "      <td>26315</td>\n",
       "      <td>236.87</td>\n",
       "      <td>6256466.0</td>\n",
       "      <td>7972.76</td>\n",
       "    </tr>\n",
       "    <tr>\n",
       "      <th>21977</th>\n",
       "      <td>24753</td>\n",
       "      <td>664.13</td>\n",
       "      <td>10615131.0</td>\n",
       "      <td>12189.47</td>\n",
       "    </tr>\n",
       "  </tbody>\n",
       "</table>\n",
       "</div>"
      ],
      "text/plain": [
       "           Quantity  UnitPrice  CustomerID    Amount\n",
       "StockCode                                           \n",
       "22197         56450    1527.11  17275441.0  50987.47\n",
       "84077         53847     173.39   7297844.0  13587.93\n",
       "85099B        47363    5333.30  25396253.0  92356.03\n",
       "85123A        38830    7177.79  32318742.0  97894.50\n",
       "84879         36221    2584.77  21602517.0  58959.73\n",
       "21212         36039    1047.04  16309247.0  21059.72\n",
       "23084         30646    2496.53  12795186.0  66756.59\n",
       "22492         26437     304.81   4919126.0  16810.42\n",
       "22616         26315     236.87   6256466.0   7972.76\n",
       "21977         24753     664.13  10615131.0  12189.47"
      ]
     },
     "execution_count": 88,
     "metadata": {},
     "output_type": "execute_result"
    }
   ],
   "source": [
    "a.sort_values(by=['Quantity'],ascending=False).head(10)"
   ]
  },
  {
   "cell_type": "markdown",
   "id": "063f4c23",
   "metadata": {},
   "source": [
    " **Here is the top 10 selling produncts based on there quantity**"
   ]
  },
  {
   "cell_type": "code",
   "execution_count": 89,
   "id": "05f174b3",
   "metadata": {},
   "outputs": [
    {
     "data": {
      "text/html": [
       "<div>\n",
       "<style scoped>\n",
       "    .dataframe tbody tr th:only-of-type {\n",
       "        vertical-align: middle;\n",
       "    }\n",
       "\n",
       "    .dataframe tbody tr th {\n",
       "        vertical-align: top;\n",
       "    }\n",
       "\n",
       "    .dataframe thead th {\n",
       "        text-align: right;\n",
       "    }\n",
       "</style>\n",
       "<table border=\"1\" class=\"dataframe\">\n",
       "  <thead>\n",
       "    <tr style=\"text-align: right;\">\n",
       "      <th></th>\n",
       "      <th>Quantity</th>\n",
       "      <th>UnitPrice</th>\n",
       "      <th>CustomerID</th>\n",
       "      <th>Amount</th>\n",
       "    </tr>\n",
       "    <tr>\n",
       "      <th>StockCode</th>\n",
       "      <th></th>\n",
       "      <th></th>\n",
       "      <th></th>\n",
       "      <th></th>\n",
       "    </tr>\n",
       "  </thead>\n",
       "  <tbody>\n",
       "    <tr>\n",
       "      <th>DOT</th>\n",
       "      <td>1707</td>\n",
       "      <td>206252.06</td>\n",
       "      <td>225536.0</td>\n",
       "      <td>206245.48</td>\n",
       "    </tr>\n",
       "    <tr>\n",
       "      <th>22423</th>\n",
       "      <td>12980</td>\n",
       "      <td>30360.61</td>\n",
       "      <td>28473438.0</td>\n",
       "      <td>164762.19</td>\n",
       "    </tr>\n",
       "    <tr>\n",
       "      <th>47566</th>\n",
       "      <td>18022</td>\n",
       "      <td>9979.62</td>\n",
       "      <td>21766527.0</td>\n",
       "      <td>98302.98</td>\n",
       "    </tr>\n",
       "    <tr>\n",
       "      <th>85123A</th>\n",
       "      <td>38830</td>\n",
       "      <td>7177.79</td>\n",
       "      <td>32318742.0</td>\n",
       "      <td>97894.50</td>\n",
       "    </tr>\n",
       "    <tr>\n",
       "      <th>85099B</th>\n",
       "      <td>47363</td>\n",
       "      <td>5333.30</td>\n",
       "      <td>25396253.0</td>\n",
       "      <td>92356.03</td>\n",
       "    </tr>\n",
       "    <tr>\n",
       "      <th>23084</th>\n",
       "      <td>30646</td>\n",
       "      <td>2496.53</td>\n",
       "      <td>12795186.0</td>\n",
       "      <td>66756.59</td>\n",
       "    </tr>\n",
       "    <tr>\n",
       "      <th>POST</th>\n",
       "      <td>6353</td>\n",
       "      <td>46388.47</td>\n",
       "      <td>15425584.0</td>\n",
       "      <td>66230.64</td>\n",
       "    </tr>\n",
       "    <tr>\n",
       "      <th>22086</th>\n",
       "      <td>18902</td>\n",
       "      <td>4054.90</td>\n",
       "      <td>15914479.0</td>\n",
       "      <td>63791.94</td>\n",
       "    </tr>\n",
       "    <tr>\n",
       "      <th>84879</th>\n",
       "      <td>36221</td>\n",
       "      <td>2584.77</td>\n",
       "      <td>21602517.0</td>\n",
       "      <td>58959.73</td>\n",
       "    </tr>\n",
       "    <tr>\n",
       "      <th>79321</th>\n",
       "      <td>10343</td>\n",
       "      <td>4579.68</td>\n",
       "      <td>8241474.0</td>\n",
       "      <td>53768.06</td>\n",
       "    </tr>\n",
       "  </tbody>\n",
       "</table>\n",
       "</div>"
      ],
      "text/plain": [
       "           Quantity  UnitPrice  CustomerID     Amount\n",
       "StockCode                                            \n",
       "DOT            1707  206252.06    225536.0  206245.48\n",
       "22423         12980   30360.61  28473438.0  164762.19\n",
       "47566         18022    9979.62  21766527.0   98302.98\n",
       "85123A        38830    7177.79  32318742.0   97894.50\n",
       "85099B        47363    5333.30  25396253.0   92356.03\n",
       "23084         30646    2496.53  12795186.0   66756.59\n",
       "POST           6353   46388.47  15425584.0   66230.64\n",
       "22086         18902    4054.90  15914479.0   63791.94\n",
       "84879         36221    2584.77  21602517.0   58959.73\n",
       "79321         10343    4579.68   8241474.0   53768.06"
      ]
     },
     "execution_count": 89,
     "metadata": {},
     "output_type": "execute_result"
    }
   ],
   "source": [
    "a.sort_values(by=['Amount'],ascending=False).head(10)"
   ]
  },
  {
   "cell_type": "markdown",
   "id": "9fcbeba8",
   "metadata": {},
   "source": [
    "**Here is the top 10 products with max profits**"
   ]
  },
  {
   "cell_type": "code",
   "execution_count": null,
   "id": "d11b705f",
   "metadata": {},
   "outputs": [],
   "source": []
  }
 ],
 "metadata": {
  "kernelspec": {
   "display_name": "Python 3 (ipykernel)",
   "language": "python",
   "name": "python3"
  },
  "language_info": {
   "codemirror_mode": {
    "name": "ipython",
    "version": 3
   },
   "file_extension": ".py",
   "mimetype": "text/x-python",
   "name": "python",
   "nbconvert_exporter": "python",
   "pygments_lexer": "ipython3",
   "version": "3.9.7"
  }
 },
 "nbformat": 4,
 "nbformat_minor": 5
}
